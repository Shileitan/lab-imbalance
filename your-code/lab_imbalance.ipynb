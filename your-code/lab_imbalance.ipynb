{
 "cells": [
  {
   "cell_type": "markdown",
   "metadata": {},
   "source": [
    "# Inbalanced Classes\n",
    "## In this lab, we are going to explore a case of imbalanced classes. \n",
    "\n",
    "\n",
    "Like we disussed in class, when we have noisy data, if we are not careful, we can end up fitting our model to the noise in the data and not the 'signal'-- the factors that actually determine the outcome. This is called overfitting, and results in good results in training, and in bad results when the model is applied to real data. Similarly, we could have a model that is too simplistic to accurately model the signal. This produces a model that doesnt work well (ever). \n"
   ]
  },
  {
   "cell_type": "markdown",
   "metadata": {},
   "source": [
    "### Note: before doing the first commit, make sure you don't include the large csv file, either by adding it to .gitignore, or by deleting it."
   ]
  },
  {
   "cell_type": "markdown",
   "metadata": {},
   "source": [
    "### First, download the data from: https://www.kaggle.com/ealaxi/paysim1 . Import the dataset and provide some discriptive statistics and plots. What do you think will be the important features in determining the outcome?\n",
    "### Note: don't use the entire dataset, use a sample instead, with n=100000 elements, so your computer doesn't freeze."
   ]
  },
  {
   "cell_type": "code",
   "execution_count": 38,
   "metadata": {},
   "outputs": [
    {
     "data": {
      "text/html": [
       "<div>\n",
       "<style scoped>\n",
       "    .dataframe tbody tr th:only-of-type {\n",
       "        vertical-align: middle;\n",
       "    }\n",
       "\n",
       "    .dataframe tbody tr th {\n",
       "        vertical-align: top;\n",
       "    }\n",
       "\n",
       "    .dataframe thead th {\n",
       "        text-align: right;\n",
       "    }\n",
       "</style>\n",
       "<table border=\"1\" class=\"dataframe\">\n",
       "  <thead>\n",
       "    <tr style=\"text-align: right;\">\n",
       "      <th></th>\n",
       "      <th>step</th>\n",
       "      <th>type</th>\n",
       "      <th>amount</th>\n",
       "      <th>nameOrig</th>\n",
       "      <th>oldbalanceOrg</th>\n",
       "      <th>newbalanceOrig</th>\n",
       "      <th>nameDest</th>\n",
       "      <th>oldbalanceDest</th>\n",
       "      <th>newbalanceDest</th>\n",
       "      <th>isFraud</th>\n",
       "      <th>isFlaggedFraud</th>\n",
       "    </tr>\n",
       "  </thead>\n",
       "  <tbody>\n",
       "    <tr>\n",
       "      <th>4000893</th>\n",
       "      <td>298</td>\n",
       "      <td>CASH_OUT</td>\n",
       "      <td>238490.09</td>\n",
       "      <td>C958079666</td>\n",
       "      <td>9983.0</td>\n",
       "      <td>0.00</td>\n",
       "      <td>C363979892</td>\n",
       "      <td>318377.61</td>\n",
       "      <td>556867.70</td>\n",
       "      <td>0</td>\n",
       "      <td>0</td>\n",
       "    </tr>\n",
       "    <tr>\n",
       "      <th>4155159</th>\n",
       "      <td>303</td>\n",
       "      <td>CASH_IN</td>\n",
       "      <td>12704.12</td>\n",
       "      <td>C2021469751</td>\n",
       "      <td>15625.0</td>\n",
       "      <td>28329.12</td>\n",
       "      <td>C56275298</td>\n",
       "      <td>200437.48</td>\n",
       "      <td>187733.36</td>\n",
       "      <td>0</td>\n",
       "      <td>0</td>\n",
       "    </tr>\n",
       "    <tr>\n",
       "      <th>5206102</th>\n",
       "      <td>370</td>\n",
       "      <td>CASH_IN</td>\n",
       "      <td>408296.16</td>\n",
       "      <td>C1284788277</td>\n",
       "      <td>947.0</td>\n",
       "      <td>409243.16</td>\n",
       "      <td>C2092913667</td>\n",
       "      <td>153733.87</td>\n",
       "      <td>0.00</td>\n",
       "      <td>0</td>\n",
       "      <td>0</td>\n",
       "    </tr>\n",
       "    <tr>\n",
       "      <th>3580555</th>\n",
       "      <td>261</td>\n",
       "      <td>CASH_OUT</td>\n",
       "      <td>257917.75</td>\n",
       "      <td>C2034765829</td>\n",
       "      <td>0.0</td>\n",
       "      <td>0.00</td>\n",
       "      <td>C116191230</td>\n",
       "      <td>828895.62</td>\n",
       "      <td>1086813.37</td>\n",
       "      <td>0</td>\n",
       "      <td>0</td>\n",
       "    </tr>\n",
       "    <tr>\n",
       "      <th>4908346</th>\n",
       "      <td>349</td>\n",
       "      <td>CASH_OUT</td>\n",
       "      <td>332338.64</td>\n",
       "      <td>C2040125747</td>\n",
       "      <td>11679.0</td>\n",
       "      <td>0.00</td>\n",
       "      <td>C541822955</td>\n",
       "      <td>53235.43</td>\n",
       "      <td>385574.08</td>\n",
       "      <td>0</td>\n",
       "      <td>0</td>\n",
       "    </tr>\n",
       "  </tbody>\n",
       "</table>\n",
       "</div>"
      ],
      "text/plain": [
       "         step      type     amount     nameOrig  oldbalanceOrg  \\\n",
       "4000893   298  CASH_OUT  238490.09   C958079666         9983.0   \n",
       "4155159   303   CASH_IN   12704.12  C2021469751        15625.0   \n",
       "5206102   370   CASH_IN  408296.16  C1284788277          947.0   \n",
       "3580555   261  CASH_OUT  257917.75  C2034765829            0.0   \n",
       "4908346   349  CASH_OUT  332338.64  C2040125747        11679.0   \n",
       "\n",
       "         newbalanceOrig     nameDest  oldbalanceDest  newbalanceDest  isFraud  \\\n",
       "4000893            0.00   C363979892       318377.61       556867.70        0   \n",
       "4155159        28329.12    C56275298       200437.48       187733.36        0   \n",
       "5206102       409243.16  C2092913667       153733.87            0.00        0   \n",
       "3580555            0.00   C116191230       828895.62      1086813.37        0   \n",
       "4908346            0.00   C541822955        53235.43       385574.08        0   \n",
       "\n",
       "         isFlaggedFraud  \n",
       "4000893               0  \n",
       "4155159               0  \n",
       "5206102               0  \n",
       "3580555               0  \n",
       "4908346               0  "
      ]
     },
     "execution_count": 38,
     "metadata": {},
     "output_type": "execute_result"
    }
   ],
   "source": [
    "# Your code here\n",
    "import pandas as pd\n",
    "\n",
    "fraud = pd.read_csv('fraud.csv').sample(100000)\n",
    "fraud.head()"
   ]
  },
  {
   "cell_type": "markdown",
   "metadata": {},
   "source": [
    "### What is the distribution of the outcome? "
   ]
  },
  {
   "cell_type": "code",
   "execution_count": 3,
   "metadata": {},
   "outputs": [
    {
     "data": {
      "text/plain": [
       "(100000, 11)"
      ]
     },
     "execution_count": 3,
     "metadata": {},
     "output_type": "execute_result"
    }
   ],
   "source": [
    "# Your response here\n",
    "fraud.shape"
   ]
  },
  {
   "cell_type": "code",
   "execution_count": 26,
   "metadata": {},
   "outputs": [
    {
     "name": "stdout",
     "output_type": "stream",
     "text": [
      "0    0.99875\n",
      "1    0.00125\n",
      "Name: isFraud, dtype: float64\n"
     ]
    },
    {
     "data": {
      "image/png": "[encoded data removed]",
      "text/plain": [
       "<Figure size 432x288 with 1 Axes>"
      ]
     },
     "metadata": {
      "needs_background": "light"
     },
     "output_type": "display_data"
    }
   ],
   "source": [
    "import matplotlib.pyplot as plt\n",
    "\n",
    "distribution = fraud['isFraud'].value_counts()/fraud.shape[0]\n",
    "distribution.plot(kind = 'bar')\n",
    "print(distribution)"
   ]
  },
  {
   "cell_type": "code",
   "execution_count": 4,
   "metadata": {},
   "outputs": [
    {
     "data": {
      "text/plain": [
       "<bound method NDFrame.describe of          step      type     amount     nameOrig  oldbalanceOrg  \\\n",
       "6098545   522  CASH_OUT   66958.56    C41940386      192854.62   \n",
       "5332549   374   PAYMENT    2753.55   C952023437           0.00   \n",
       "1342720   137   PAYMENT   14513.45   C817599347       23849.00   \n",
       "854442     41   PAYMENT    1561.55  C1989432016      257524.00   \n",
       "2393912   201  CASH_OUT  121816.67   C621629795       20749.00   \n",
       "...       ...       ...        ...          ...            ...   \n",
       "2994234   232  CASH_OUT  202503.86  C1513628393           0.00   \n",
       "51720       9  CASH_OUT  492523.24  C1986491285      205071.00   \n",
       "5566295   393   PAYMENT   29931.41  C1274936872       18235.57   \n",
       "5003321   353  CASH_OUT   80124.05   C158348920           0.00   \n",
       "5791149   401   CASH_IN  378964.17  C1707391113       11614.00   \n",
       "\n",
       "         newbalanceOrig     nameDest  oldbalanceDest  newbalanceDest  isFraud  \\\n",
       "6098545       125896.06  C2022699695       179660.87       246619.43        0   \n",
       "5332549            0.00   M963964149            0.00            0.00        0   \n",
       "1342720         9335.55  M1244075538            0.00            0.00        0   \n",
       "854442        255962.45  M1603570609            0.00            0.00        0   \n",
       "2393912            0.00  C1925984694      2709053.63      4426690.42        0   \n",
       "...                 ...          ...             ...             ...      ...   \n",
       "2994234            0.00  C1648505917       268089.03       470592.90        0   \n",
       "51720              0.00   C798678484      4841106.98      5987018.09        0   \n",
       "5566295            0.00  M1940406186            0.00            0.00        0   \n",
       "5003321            0.00  C1221676402      8029667.64      8109791.70        0   \n",
       "5791149       390578.17  C1942556996            0.00            0.00        0   \n",
       "\n",
       "         isFlaggedFraud  \n",
       "6098545               0  \n",
       "5332549               0  \n",
       "1342720               0  \n",
       "854442                0  \n",
       "2393912               0  \n",
       "...                 ...  \n",
       "2994234               0  \n",
       "51720                 0  \n",
       "5566295               0  \n",
       "5003321               0  \n",
       "5791149               0  \n",
       "\n",
       "[100000 rows x 11 columns]>"
      ]
     },
     "execution_count": 4,
     "metadata": {},
     "output_type": "execute_result"
    }
   ],
   "source": [
    "fraud.describe"
   ]
  },
  {
   "cell_type": "code",
   "execution_count": 5,
   "metadata": {},
   "outputs": [
    {
     "data": {
      "text/plain": [
       "step                int64\n",
       "type               object\n",
       "amount            float64\n",
       "nameOrig           object\n",
       "oldbalanceOrg     float64\n",
       "newbalanceOrig    float64\n",
       "nameDest           object\n",
       "oldbalanceDest    float64\n",
       "newbalanceDest    float64\n",
       "isFraud             int64\n",
       "isFlaggedFraud      int64\n",
       "dtype: object"
      ]
     },
     "execution_count": 5,
     "metadata": {},
     "output_type": "execute_result"
    }
   ],
   "source": [
    "fraud.dtypes"
   ]
  },
  {
   "cell_type": "code",
   "execution_count": 7,
   "metadata": {
    "scrolled": true
   },
   "outputs": [
    {
     "data": {
      "text/plain": [
       "step              0\n",
       "type              0\n",
       "amount            0\n",
       "nameOrig          0\n",
       "oldbalanceOrg     0\n",
       "newbalanceOrig    0\n",
       "nameDest          0\n",
       "oldbalanceDest    0\n",
       "newbalanceDest    0\n",
       "isFraud           0\n",
       "isFlaggedFraud    0\n",
       "dtype: int64"
      ]
     },
     "execution_count": 7,
     "metadata": {},
     "output_type": "execute_result"
    }
   ],
   "source": [
    "fraud.isna().sum()"
   ]
  },
  {
   "cell_type": "markdown",
   "metadata": {},
   "source": [
    "### Clean the dataset. How are you going to integrate the time variable? Do you think the step (integer) coding in which it is given is appropriate?"
   ]
  },
  {
   "cell_type": "code",
   "execution_count": 20,
   "metadata": {},
   "outputs": [
    {
     "data": {
      "text/plain": [
       "5"
      ]
     },
     "execution_count": 20,
     "metadata": {},
     "output_type": "execute_result"
    }
   ],
   "source": [
    "# Your code here\n",
    "len(fraud['type'].unique())"
   ]
  },
  {
   "cell_type": "code",
   "execution_count": 15,
   "metadata": {},
   "outputs": [
    {
     "data": {
      "text/plain": [
       "92976"
      ]
     },
     "execution_count": 15,
     "metadata": {},
     "output_type": "execute_result"
    }
   ],
   "source": [
    "len(fraud['nameDest'].unique())"
   ]
  },
  {
   "cell_type": "code",
   "execution_count": 14,
   "metadata": {},
   "outputs": [
    {
     "data": {
      "text/plain": [
       "99996"
      ]
     },
     "execution_count": 14,
     "metadata": {},
     "output_type": "execute_result"
    }
   ],
   "source": [
    "len(fraud['nameOrig'].unique())"
   ]
  },
  {
   "cell_type": "code",
   "execution_count": 39,
   "metadata": {},
   "outputs": [],
   "source": [
    "# since there are only three columnes with type of object. Type has 5 values, while nameOrig and nameDest have more than 90000 values. \n",
    "# Therefore, keep only type as\n",
    "fraud.drop(labels=['nameDest', 'nameOrig'], axis=1, inplace=True)"
   ]
  },
  {
   "cell_type": "code",
   "execution_count": 40,
   "metadata": {},
   "outputs": [
    {
     "data": {
      "text/html": [
       "<div>\n",
       "<style scoped>\n",
       "    .dataframe tbody tr th:only-of-type {\n",
       "        vertical-align: middle;\n",
       "    }\n",
       "\n",
       "    .dataframe tbody tr th {\n",
       "        vertical-align: top;\n",
       "    }\n",
       "\n",
       "    .dataframe thead th {\n",
       "        text-align: right;\n",
       "    }\n",
       "</style>\n",
       "<table border=\"1\" class=\"dataframe\">\n",
       "  <thead>\n",
       "    <tr style=\"text-align: right;\">\n",
       "      <th></th>\n",
       "      <th>step</th>\n",
       "      <th>type</th>\n",
       "      <th>amount</th>\n",
       "      <th>oldbalanceOrg</th>\n",
       "      <th>newbalanceOrig</th>\n",
       "      <th>oldbalanceDest</th>\n",
       "      <th>newbalanceDest</th>\n",
       "      <th>isFraud</th>\n",
       "      <th>isFlaggedFraud</th>\n",
       "      <th>CASH_IN</th>\n",
       "      <th>CASH_OUT</th>\n",
       "      <th>DEBIT</th>\n",
       "      <th>PAYMENT</th>\n",
       "      <th>TRANSFER</th>\n",
       "    </tr>\n",
       "  </thead>\n",
       "  <tbody>\n",
       "    <tr>\n",
       "      <th>4000893</th>\n",
       "      <td>298</td>\n",
       "      <td>CASH_OUT</td>\n",
       "      <td>238490.09</td>\n",
       "      <td>9983.0</td>\n",
       "      <td>0.00</td>\n",
       "      <td>318377.61</td>\n",
       "      <td>556867.70</td>\n",
       "      <td>0</td>\n",
       "      <td>0</td>\n",
       "      <td>0</td>\n",
       "      <td>1</td>\n",
       "      <td>0</td>\n",
       "      <td>0</td>\n",
       "      <td>0</td>\n",
       "    </tr>\n",
       "    <tr>\n",
       "      <th>4155159</th>\n",
       "      <td>303</td>\n",
       "      <td>CASH_IN</td>\n",
       "      <td>12704.12</td>\n",
       "      <td>15625.0</td>\n",
       "      <td>28329.12</td>\n",
       "      <td>200437.48</td>\n",
       "      <td>187733.36</td>\n",
       "      <td>0</td>\n",
       "      <td>0</td>\n",
       "      <td>1</td>\n",
       "      <td>0</td>\n",
       "      <td>0</td>\n",
       "      <td>0</td>\n",
       "      <td>0</td>\n",
       "    </tr>\n",
       "    <tr>\n",
       "      <th>5206102</th>\n",
       "      <td>370</td>\n",
       "      <td>CASH_IN</td>\n",
       "      <td>408296.16</td>\n",
       "      <td>947.0</td>\n",
       "      <td>409243.16</td>\n",
       "      <td>153733.87</td>\n",
       "      <td>0.00</td>\n",
       "      <td>0</td>\n",
       "      <td>0</td>\n",
       "      <td>1</td>\n",
       "      <td>0</td>\n",
       "      <td>0</td>\n",
       "      <td>0</td>\n",
       "      <td>0</td>\n",
       "    </tr>\n",
       "    <tr>\n",
       "      <th>3580555</th>\n",
       "      <td>261</td>\n",
       "      <td>CASH_OUT</td>\n",
       "      <td>257917.75</td>\n",
       "      <td>0.0</td>\n",
       "      <td>0.00</td>\n",
       "      <td>828895.62</td>\n",
       "      <td>1086813.37</td>\n",
       "      <td>0</td>\n",
       "      <td>0</td>\n",
       "      <td>0</td>\n",
       "      <td>1</td>\n",
       "      <td>0</td>\n",
       "      <td>0</td>\n",
       "      <td>0</td>\n",
       "    </tr>\n",
       "    <tr>\n",
       "      <th>4908346</th>\n",
       "      <td>349</td>\n",
       "      <td>CASH_OUT</td>\n",
       "      <td>332338.64</td>\n",
       "      <td>11679.0</td>\n",
       "      <td>0.00</td>\n",
       "      <td>53235.43</td>\n",
       "      <td>385574.08</td>\n",
       "      <td>0</td>\n",
       "      <td>0</td>\n",
       "      <td>0</td>\n",
       "      <td>1</td>\n",
       "      <td>0</td>\n",
       "      <td>0</td>\n",
       "      <td>0</td>\n",
       "    </tr>\n",
       "  </tbody>\n",
       "</table>\n",
       "</div>"
      ],
      "text/plain": [
       "         step      type     amount  oldbalanceOrg  newbalanceOrig  \\\n",
       "4000893   298  CASH_OUT  238490.09         9983.0            0.00   \n",
       "4155159   303   CASH_IN   12704.12        15625.0        28329.12   \n",
       "5206102   370   CASH_IN  408296.16          947.0       409243.16   \n",
       "3580555   261  CASH_OUT  257917.75            0.0            0.00   \n",
       "4908346   349  CASH_OUT  332338.64        11679.0            0.00   \n",
       "\n",
       "         oldbalanceDest  newbalanceDest  isFraud  isFlaggedFraud  CASH_IN  \\\n",
       "4000893       318377.61       556867.70        0               0        0   \n",
       "4155159       200437.48       187733.36        0               0        1   \n",
       "5206102       153733.87            0.00        0               0        1   \n",
       "3580555       828895.62      1086813.37        0               0        0   \n",
       "4908346        53235.43       385574.08        0               0        0   \n",
       "\n",
       "         CASH_OUT  DEBIT  PAYMENT  TRANSFER  \n",
       "4000893         1      0        0         0  \n",
       "4155159         0      0        0         0  \n",
       "5206102         0      0        0         0  \n",
       "3580555         1      0        0         0  \n",
       "4908346         1      0        0         0  "
      ]
     },
     "execution_count": 40,
     "metadata": {},
     "output_type": "execute_result"
    }
   ],
   "source": [
    "fraud = pd.concat([fraud, pd.get_dummies(fraud['type'])], axis=1)\n",
    "fraud.head()"
   ]
  },
  {
   "cell_type": "code",
   "execution_count": 41,
   "metadata": {},
   "outputs": [],
   "source": [
    "fraud.drop(labels=['type'], axis=1, inplace=True)"
   ]
  },
  {
   "cell_type": "code",
   "execution_count": null,
   "metadata": {},
   "outputs": [],
   "source": [
    "# I can do the cleaning but I did not understand the question...."
   ]
  },
  {
   "cell_type": "markdown",
   "metadata": {},
   "source": [
    "### Run a logisitc regression classifier and evaluate its accuracy."
   ]
  },
  {
   "cell_type": "code",
   "execution_count": 42,
   "metadata": {},
   "outputs": [],
   "source": [
    "# Your code here\n",
    "from sklearn.model_selection import train_test_split\n",
    "\n",
    "X = fraud.drop(labels='isFraud', axis=1)\n",
    "y = fraud['isFraud']\n",
    "\n",
    "X_train, X_test, y_train, y_test = train_test_split(X, y, test_size= 0.2)"
   ]
  },
  {
   "cell_type": "code",
   "execution_count": 47,
   "metadata": {},
   "outputs": [
    {
     "name": "stdout",
     "output_type": "stream",
     "text": [
      "0.9981\n"
     ]
    }
   ],
   "source": [
    "from sklearn.linear_model import LogisticRegression\n",
    "from sklearn.metrics import accuracy_score\n",
    "\n",
    "LR = LogisticRegression()\n",
    "LR.fit(X_train, y_train)\n",
    "accuracy = LR.score(X_test, y_test)\n",
    "\n",
    "print(accuracy)"
   ]
  },
  {
   "cell_type": "markdown",
   "metadata": {},
   "source": [
    "### Now pick a model of your choice and evaluate its accuracy."
   ]
  },
  {
   "cell_type": "code",
   "execution_count": 48,
   "metadata": {},
   "outputs": [
    {
     "name": "stdout",
     "output_type": "stream",
     "text": [
      "test data accuracy was  0.9994\n"
     ]
    }
   ],
   "source": [
    "# Your code here\n",
    "from sklearn.tree import DecisionTreeClassifier\n",
    "model = DecisionTreeClassifier(max_depth = 10)\n",
    "model.fit(X_train, y_train)\n",
    "print(\"test data accuracy was \",model.score(X_test,y_test))"
   ]
  },
  {
   "cell_type": "code",
   "execution_count": 49,
   "metadata": {},
   "outputs": [],
   "source": [
    "max_depth = range(1,30)\n",
    "test = []\n",
    "train = []\n",
    "\n",
    "for depth in max_depth:\n",
    "  model = DecisionTreeClassifier(max_depth= depth)\n",
    "  model.fit(X_train, y_train)\n",
    "  test.append(model.score(X_test,y_test))\n",
    "  train.append(model.score(X_train,y_train))"
   ]
  },
  {
   "cell_type": "code",
   "execution_count": 50,
   "metadata": {},
   "outputs": [
    {
     "data": {
      "text/plain": [
       "<matplotlib.legend.Legend at 0x284c73647c0>"
      ]
     },
     "execution_count": 50,
     "metadata": {},
     "output_type": "execute_result"
    },
    {
     "data": {
      "image/png": "[encoded data removed]",
      "text/plain": [
       "<Figure size 432x288 with 1 Axes>"
      ]
     },
     "metadata": {
      "needs_background": "light"
     },
     "output_type": "display_data"
    }
   ],
   "source": [
    "plt.plot( train, label=\"training accuracy\")\n",
    "plt.plot( test, label=\"test accuracy\")\n",
    "plt.ylabel(\"Accuracy\")\n",
    "plt.xlabel(\"n_depth\")\n",
    "plt.legend()"
   ]
  },
  {
   "cell_type": "code",
   "execution_count": 51,
   "metadata": {},
   "outputs": [
    {
     "name": "stdout",
     "output_type": "stream",
     "text": [
      "test data accuracy was  0.9995\n"
     ]
    }
   ],
   "source": [
    "model = DecisionTreeClassifier(max_depth = 9)\n",
    "model.fit(X_train, y_train)\n",
    "print(\"test data accuracy was \",model.score(X_test,y_test))"
   ]
  },
  {
   "cell_type": "markdown",
   "metadata": {},
   "source": [
    "### Which model worked better and how do you know?"
   ]
  },
  {
   "cell_type": "code",
   "execution_count": 2,
   "metadata": {},
   "outputs": [],
   "source": [
    "# Your response here\n",
    "# Decisiontree model seemed to be better since the accuracy was higher. And the max_depth at 9 has the highest the accuracy."
   ]
  },
  {
   "cell_type": "markdown",
   "metadata": {},
   "source": [
    "### Note: before doing the first commit, make sure you don't include the large csv file, either by adding it to .gitignore, or by deleting it."
   ]
  }
 ],
 "metadata": {
  "kernelspec": {
   "display_name": "Python 3 (ipykernel)",
   "language": "python",
   "name": "python3"
  },
  "language_info": {
   "codemirror_mode": {
    "name": "ipython",
    "version": 3
   },
   "file_extension": ".py",
   "mimetype": "text/x-python",
   "name": "python",
   "nbconvert_exporter": "python",
   "pygments_lexer": "ipython3",
   "version": "3.9.12"
  }
 },
 "nbformat": 4,
 "nbformat_minor": 2
}
